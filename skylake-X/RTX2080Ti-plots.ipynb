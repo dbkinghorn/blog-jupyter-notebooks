{
 "cells": [
  {
   "cell_type": "code",
   "execution_count": 1,
   "metadata": {},
   "outputs": [],
   "source": [
    "import pandas as pd  # data handeling\n",
    "import numpy as np   # numeriacal computing\n",
    "import matplotlib.pyplot as plt  # plotting core\n",
    "import seaborn as sns  # higher level plotting tools\n",
    "%matplotlib inline\n",
    "sns.set()"
   ]
  },
  {
   "cell_type": "code",
   "execution_count": 2,
   "metadata": {},
   "outputs": [],
   "source": [
    "RN50fp32 = {'GTX 1080 Ti':207,'RTX 2080':207,'RTX 2080 Ti':280,'Titan V':299}\n",
    "RN50fp16 = {'GTX 1080 Ti':'N/A','RTX 2080':332,'RTX 2080 Ti':437,'Titan V':547}"
   ]
  },
  {
   "cell_type": "code",
   "execution_count": 3,
   "metadata": {},
   "outputs": [],
   "source": [
    "LSTM = {'GTX 1080 Ti':6460,'RTX 2080':5071,'RTX 2080 Ti':8945,'Titan V':7066}"
   ]
  },
  {
   "cell_type": "code",
   "execution_count": 4,
   "metadata": {},
   "outputs": [],
   "source": [
    "df = pd.DataFrame({'GPU':[\n",
    "    \"GTX 1080 Ti\",\n",
    "    \"RTX 2080\",\n",
    "    \"RTX 2080 Ti\",\n",
    "    \"Titan V\"], \n",
    "    'images/second':[207, 207, 280, 299]})"
   ]
  },
  {
   "cell_type": "code",
   "execution_count": 5,
   "metadata": {},
   "outputs": [
    {
     "data": {
      "text/html": [
       "<div>\n",
       "<style scoped>\n",
       "    .dataframe tbody tr th:only-of-type {\n",
       "        vertical-align: middle;\n",
       "    }\n",
       "\n",
       "    .dataframe tbody tr th {\n",
       "        vertical-align: top;\n",
       "    }\n",
       "\n",
       "    .dataframe thead th {\n",
       "        text-align: right;\n",
       "    }\n",
       "</style>\n",
       "<table border=\"1\" class=\"dataframe\">\n",
       "  <thead>\n",
       "    <tr style=\"text-align: right;\">\n",
       "      <th></th>\n",
       "      <th>GPU</th>\n",
       "      <th>images/second</th>\n",
       "    </tr>\n",
       "  </thead>\n",
       "  <tbody>\n",
       "    <tr>\n",
       "      <th>0</th>\n",
       "      <td>GTX 1080 Ti</td>\n",
       "      <td>207</td>\n",
       "    </tr>\n",
       "    <tr>\n",
       "      <th>1</th>\n",
       "      <td>RTX 2080</td>\n",
       "      <td>207</td>\n",
       "    </tr>\n",
       "    <tr>\n",
       "      <th>2</th>\n",
       "      <td>RTX 2080 Ti</td>\n",
       "      <td>280</td>\n",
       "    </tr>\n",
       "    <tr>\n",
       "      <th>3</th>\n",
       "      <td>Titan V</td>\n",
       "      <td>299</td>\n",
       "    </tr>\n",
       "  </tbody>\n",
       "</table>\n",
       "</div>"
      ],
      "text/plain": [
       "           GPU  images/second\n",
       "0  GTX 1080 Ti            207\n",
       "1     RTX 2080            207\n",
       "2  RTX 2080 Ti            280\n",
       "3      Titan V            299"
      ]
     },
     "execution_count": 5,
     "metadata": {},
     "output_type": "execute_result"
    }
   ],
   "source": [
    "df"
   ]
  },
  {
   "cell_type": "code",
   "execution_count": 6,
   "metadata": {},
   "outputs": [
    {
     "data": {
      "text/plain": [
       "Text(0.5,1,'ResNet-50 CNN FP32 precision')"
      ]
     },
     "execution_count": 6,
     "metadata": {},
     "output_type": "execute_result"
    },
    {
     "data": {
      "image/png": "[encoded data removed]",
      "text/plain": [
       "<Figure size 576x360 with 1 Axes>"
      ]
     },
     "metadata": {},
     "output_type": "display_data"
    }
   ],
   "source": [
    "plt.figure(figsize=(8,5))\n",
    "\n",
    "ax = sns.barplot(y=\"GPU\", x=\"images/second\", data=df, palette=\"Greens\")\n",
    "#ax.set_xlim(100,320)\n",
    "ax.set_title(\"ResNet-50 CNN FP32 precision\", fontsize=18)"
   ]
  },
  {
   "cell_type": "code",
   "execution_count": 7,
   "metadata": {},
   "outputs": [],
   "source": [
    "df = pd.DataFrame({'GPU':[\n",
    "    \"GTX 1080 Ti\",\n",
    "    \"RTX 2080\",\n",
    "    \"RTX 2080 Ti\",\n",
    "    \"Titan V\"], \n",
    "    'images/second':[0, 332, 437, 547]})"
   ]
  },
  {
   "cell_type": "code",
   "execution_count": 8,
   "metadata": {},
   "outputs": [
    {
     "data": {
      "text/plain": [
       "Text(0.5,1,'ResNet-50 CNN Train - FP16 precision (Tensorcores)')"
      ]
     },
     "execution_count": 8,
     "metadata": {},
     "output_type": "execute_result"
    },
    {
     "data": {
      "image/png": "[encoded data removed]",
      "text/plain": [
       "<Figure size 576x360 with 1 Axes>"
      ]
     },
     "metadata": {},
     "output_type": "display_data"
    }
   ],
   "source": [
    "plt.figure(figsize=(8,5))\n",
    "ax = sns.barplot(y=\"GPU\", x=\"images/second\", data=df, palette=\"Greens\")\n",
    "#ax.set_xlim(100,320)\n",
    "ax.set_title(\"ResNet-50 CNN Train - FP16 precision (Tensorcores)\", fontsize=18)"
   ]
  },
  {
   "cell_type": "code",
   "execution_count": 6,
   "metadata": {},
   "outputs": [],
   "source": [
    "df = pd.DataFrame({'GPU':[\n",
    "    \"RTX 2070 FP32\",\n",
    "    \"GTX 1080 Ti FP32\",\n",
    "    \"RTX 2080 FP32\",\n",
    "    \"RTX 2080 Ti FP32\",\n",
    "    \"RTX Titan FP32\",\n",
    "    \"Titan V FP32\",\n",
    "    \"2 x RTX 2080 FP32\",\n",
    "    \"2 x GTX 1080 FP32\",\n",
    "    \"2 x RTX 2080+NVLINK FP32\",\n",
    "    \"2 x RTX 2080 Ti FP32\",\n",
    "    \"2 x RTX 2080 Ti+NVLINK FP32\",\n",
    "    \"2 x RTX Titan FP32\",\n",
    "    \"2 x RTX Titan+NVLINK FP32\",\n",
    "     \"GTX 1080 Ti FP16\",\n",
    "    \"RTX 2070 FP16\",\n",
    "    \"RTX 2080 FP16\",\n",
    "    \"RTX 2080 Ti FP16\",\n",
    "    \"RTX Titan FP16\",\n",
    "    \"Titan V FP16\",\n",
    "    \"2 x RTX 2080 FP16\",\n",
    "    \"2 x RTX 2080+NVLINK FP16\",\n",
    "    \"2 x RTX 2080 Ti FP16\",\n",
    "    \"2 x RTX 2080 Ti+NVLINK FP16\",\n",
    "    \"2 x RTX Titan FP16\",\n",
    "    \"2 x RTX Titan+NVLINK FP16\"], \n",
    "    'images/second':[192,207,207,280,294,299,364,367,373,470,500,572,577,0,280,332,437,481,547,552,566,750,776,941,958]})"
   ]
  },
  {
   "cell_type": "code",
   "execution_count": 7,
   "metadata": {},
   "outputs": [
    {
     "data": {
      "text/html": [
       "<div>\n",
       "<style scoped>\n",
       "    .dataframe tbody tr th:only-of-type {\n",
       "        vertical-align: middle;\n",
       "    }\n",
       "\n",
       "    .dataframe tbody tr th {\n",
       "        vertical-align: top;\n",
       "    }\n",
       "\n",
       "    .dataframe thead th {\n",
       "        text-align: right;\n",
       "    }\n",
       "</style>\n",
       "<table border=\"1\" class=\"dataframe\">\n",
       "  <thead>\n",
       "    <tr style=\"text-align: right;\">\n",
       "      <th></th>\n",
       "      <th>GPU</th>\n",
       "      <th>images/second</th>\n",
       "    </tr>\n",
       "  </thead>\n",
       "  <tbody>\n",
       "    <tr>\n",
       "      <th>0</th>\n",
       "      <td>RTX 2070 FP32</td>\n",
       "      <td>192</td>\n",
       "    </tr>\n",
       "    <tr>\n",
       "      <th>1</th>\n",
       "      <td>GTX 1080 Ti FP32</td>\n",
       "      <td>207</td>\n",
       "    </tr>\n",
       "    <tr>\n",
       "      <th>2</th>\n",
       "      <td>RTX 2080 FP32</td>\n",
       "      <td>207</td>\n",
       "    </tr>\n",
       "    <tr>\n",
       "      <th>3</th>\n",
       "      <td>RTX 2080 Ti FP32</td>\n",
       "      <td>280</td>\n",
       "    </tr>\n",
       "    <tr>\n",
       "      <th>4</th>\n",
       "      <td>RTX Titan FP32</td>\n",
       "      <td>294</td>\n",
       "    </tr>\n",
       "    <tr>\n",
       "      <th>5</th>\n",
       "      <td>Titan V FP32</td>\n",
       "      <td>299</td>\n",
       "    </tr>\n",
       "    <tr>\n",
       "      <th>6</th>\n",
       "      <td>2 x RTX 2080 FP32</td>\n",
       "      <td>364</td>\n",
       "    </tr>\n",
       "    <tr>\n",
       "      <th>7</th>\n",
       "      <td>2 x GTX 1080 FP32</td>\n",
       "      <td>367</td>\n",
       "    </tr>\n",
       "    <tr>\n",
       "      <th>8</th>\n",
       "      <td>2 x RTX 2080+NVLINK FP32</td>\n",
       "      <td>373</td>\n",
       "    </tr>\n",
       "    <tr>\n",
       "      <th>9</th>\n",
       "      <td>2 x RTX 2080 Ti FP32</td>\n",
       "      <td>470</td>\n",
       "    </tr>\n",
       "    <tr>\n",
       "      <th>10</th>\n",
       "      <td>2 x RTX 2080 Ti+NVLINK FP32</td>\n",
       "      <td>500</td>\n",
       "    </tr>\n",
       "    <tr>\n",
       "      <th>11</th>\n",
       "      <td>2 x RTX Titan FP32</td>\n",
       "      <td>572</td>\n",
       "    </tr>\n",
       "    <tr>\n",
       "      <th>12</th>\n",
       "      <td>2 x RTX Titan+NVLINK FP32</td>\n",
       "      <td>577</td>\n",
       "    </tr>\n",
       "    <tr>\n",
       "      <th>13</th>\n",
       "      <td>GTX 1080 Ti FP16</td>\n",
       "      <td>0</td>\n",
       "    </tr>\n",
       "    <tr>\n",
       "      <th>14</th>\n",
       "      <td>RTX 2070 FP16</td>\n",
       "      <td>280</td>\n",
       "    </tr>\n",
       "    <tr>\n",
       "      <th>15</th>\n",
       "      <td>RTX 2080 FP16</td>\n",
       "      <td>332</td>\n",
       "    </tr>\n",
       "    <tr>\n",
       "      <th>16</th>\n",
       "      <td>RTX 2080 Ti FP16</td>\n",
       "      <td>437</td>\n",
       "    </tr>\n",
       "    <tr>\n",
       "      <th>17</th>\n",
       "      <td>RTX Titan FP16</td>\n",
       "      <td>481</td>\n",
       "    </tr>\n",
       "    <tr>\n",
       "      <th>18</th>\n",
       "      <td>Titan V FP16</td>\n",
       "      <td>547</td>\n",
       "    </tr>\n",
       "    <tr>\n",
       "      <th>19</th>\n",
       "      <td>2 x RTX 2080 FP16</td>\n",
       "      <td>552</td>\n",
       "    </tr>\n",
       "    <tr>\n",
       "      <th>20</th>\n",
       "      <td>2 x RTX 2080+NVLINK FP16</td>\n",
       "      <td>566</td>\n",
       "    </tr>\n",
       "    <tr>\n",
       "      <th>21</th>\n",
       "      <td>2 x RTX 2080 Ti FP16</td>\n",
       "      <td>750</td>\n",
       "    </tr>\n",
       "    <tr>\n",
       "      <th>22</th>\n",
       "      <td>2 x RTX 2080 Ti+NVLINK FP16</td>\n",
       "      <td>776</td>\n",
       "    </tr>\n",
       "    <tr>\n",
       "      <th>23</th>\n",
       "      <td>2 x RTX Titan FP16</td>\n",
       "      <td>941</td>\n",
       "    </tr>\n",
       "    <tr>\n",
       "      <th>24</th>\n",
       "      <td>2 x RTX Titan+NVLINK FP16</td>\n",
       "      <td>958</td>\n",
       "    </tr>\n",
       "  </tbody>\n",
       "</table>\n",
       "</div>"
      ],
      "text/plain": [
       "                            GPU  images/second\n",
       "0                 RTX 2070 FP32            192\n",
       "1              GTX 1080 Ti FP32            207\n",
       "2                 RTX 2080 FP32            207\n",
       "3              RTX 2080 Ti FP32            280\n",
       "4                RTX Titan FP32            294\n",
       "5                  Titan V FP32            299\n",
       "6             2 x RTX 2080 FP32            364\n",
       "7             2 x GTX 1080 FP32            367\n",
       "8      2 x RTX 2080+NVLINK FP32            373\n",
       "9          2 x RTX 2080 Ti FP32            470\n",
       "10  2 x RTX 2080 Ti+NVLINK FP32            500\n",
       "11           2 x RTX Titan FP32            572\n",
       "12    2 x RTX Titan+NVLINK FP32            577\n",
       "13             GTX 1080 Ti FP16              0\n",
       "14                RTX 2070 FP16            280\n",
       "15                RTX 2080 FP16            332\n",
       "16             RTX 2080 Ti FP16            437\n",
       "17               RTX Titan FP16            481\n",
       "18                 Titan V FP16            547\n",
       "19            2 x RTX 2080 FP16            552\n",
       "20     2 x RTX 2080+NVLINK FP16            566\n",
       "21         2 x RTX 2080 Ti FP16            750\n",
       "22  2 x RTX 2080 Ti+NVLINK FP16            776\n",
       "23           2 x RTX Titan FP16            941\n",
       "24    2 x RTX Titan+NVLINK FP16            958"
      ]
     },
     "execution_count": 7,
     "metadata": {},
     "output_type": "execute_result"
    }
   ],
   "source": [
    "df"
   ]
  },
  {
   "cell_type": "code",
   "execution_count": 9,
   "metadata": {},
   "outputs": [
    {
     "data": {
      "text/plain": [
       "Text(0.5, 1.0, 'ResNet-50 CNN Train - FP32 and FP16 (Tensorcores)')"
      ]
     },
     "execution_count": 9,
     "metadata": {},
     "output_type": "execute_result"
    },
    {
     "data": {
      "image/png": "[encoded data removed]",
      "text/plain": [
       "<Figure size 648x648 with 1 Axes>"
      ]
     },
     "metadata": {
      "needs_background": "light"
     },
     "output_type": "display_data"
    }
   ],
   "source": [
    "plt.figure(figsize=(9,9))\n",
    "ax = sns.barplot(y=\"GPU\", x=\"images/second\", data=df, palette=\"Greens\")\n",
    "#ax.set_xlim(100,320)\n",
    "ax.set_title(\"ResNet-50 CNN Train - FP32 and FP16 (Tensorcores)\", fontsize=18)"
   ]
  },
  {
   "cell_type": "code",
   "execution_count": 15,
   "metadata": {},
   "outputs": [],
   "source": [
    "df = pd.DataFrame({'GPU':[\n",
    "    \"RTX 2070\",\n",
    "    \"RTX 2080\",\n",
    "    \"GTX 1080 Ti\",\n",
    "    \"Titan V (Note:1)\",\n",
    "    \"Titan V (Note:2)\",\n",
    "    \"2 x RTX 2080\",\n",
    "    \"RTX 2080 Ti\",\n",
    "    \"RTX Titan\",\n",
    "    \"2 x RTX 2080+NVLINK\",\n",
    "    \"2 x RTX 2080 Ti\",\n",
    "    \"2 x RTX 2080 Ti+NVLINK\",\n",
    "    \"2 x RTX Titan\",\n",
    "    \"2 x RTX Titan+NVLINK\"], \n",
    "    'words/second':[4740,5071,6460,7066,8373,8882,8945,9095,9711,15770,16977,17863,18118]})"
   ]
  },
  {
   "cell_type": "code",
   "execution_count": 16,
   "metadata": {},
   "outputs": [
    {
     "data": {
      "text/html": [
       "<div>\n",
       "<style scoped>\n",
       "    .dataframe tbody tr th:only-of-type {\n",
       "        vertical-align: middle;\n",
       "    }\n",
       "\n",
       "    .dataframe tbody tr th {\n",
       "        vertical-align: top;\n",
       "    }\n",
       "\n",
       "    .dataframe thead th {\n",
       "        text-align: right;\n",
       "    }\n",
       "</style>\n",
       "<table border=\"1\" class=\"dataframe\">\n",
       "  <thead>\n",
       "    <tr style=\"text-align: right;\">\n",
       "      <th></th>\n",
       "      <th>GPU</th>\n",
       "      <th>words/second</th>\n",
       "    </tr>\n",
       "  </thead>\n",
       "  <tbody>\n",
       "    <tr>\n",
       "      <th>0</th>\n",
       "      <td>RTX 2070</td>\n",
       "      <td>4740</td>\n",
       "    </tr>\n",
       "    <tr>\n",
       "      <th>1</th>\n",
       "      <td>RTX 2080</td>\n",
       "      <td>5071</td>\n",
       "    </tr>\n",
       "    <tr>\n",
       "      <th>2</th>\n",
       "      <td>GTX 1080 Ti</td>\n",
       "      <td>6460</td>\n",
       "    </tr>\n",
       "    <tr>\n",
       "      <th>3</th>\n",
       "      <td>Titan V (Note:1)</td>\n",
       "      <td>7066</td>\n",
       "    </tr>\n",
       "    <tr>\n",
       "      <th>4</th>\n",
       "      <td>Titan V (Note:2)</td>\n",
       "      <td>8373</td>\n",
       "    </tr>\n",
       "    <tr>\n",
       "      <th>5</th>\n",
       "      <td>2 x RTX 2080</td>\n",
       "      <td>8882</td>\n",
       "    </tr>\n",
       "    <tr>\n",
       "      <th>6</th>\n",
       "      <td>RTX 2080 Ti</td>\n",
       "      <td>8945</td>\n",
       "    </tr>\n",
       "    <tr>\n",
       "      <th>7</th>\n",
       "      <td>RTX Titan</td>\n",
       "      <td>9095</td>\n",
       "    </tr>\n",
       "    <tr>\n",
       "      <th>8</th>\n",
       "      <td>2 x RTX 2080+NVLINK</td>\n",
       "      <td>9711</td>\n",
       "    </tr>\n",
       "    <tr>\n",
       "      <th>9</th>\n",
       "      <td>2 x RTX 2080 Ti</td>\n",
       "      <td>15770</td>\n",
       "    </tr>\n",
       "    <tr>\n",
       "      <th>10</th>\n",
       "      <td>2 x RTX 2080 Ti+NVLINK</td>\n",
       "      <td>16977</td>\n",
       "    </tr>\n",
       "    <tr>\n",
       "      <th>11</th>\n",
       "      <td>2 x RTX Titan</td>\n",
       "      <td>17863</td>\n",
       "    </tr>\n",
       "    <tr>\n",
       "      <th>12</th>\n",
       "      <td>2 x RTX Titan+NVLINK</td>\n",
       "      <td>18118</td>\n",
       "    </tr>\n",
       "  </tbody>\n",
       "</table>\n",
       "</div>"
      ],
      "text/plain": [
       "                       GPU  words/second\n",
       "0                 RTX 2070          4740\n",
       "1                 RTX 2080          5071\n",
       "2              GTX 1080 Ti          6460\n",
       "3         Titan V (Note:1)          7066\n",
       "4         Titan V (Note:2)          8373\n",
       "5             2 x RTX 2080          8882\n",
       "6              RTX 2080 Ti          8945\n",
       "7                RTX Titan          9095\n",
       "8      2 x RTX 2080+NVLINK          9711\n",
       "9          2 x RTX 2080 Ti         15770\n",
       "10  2 x RTX 2080 Ti+NVLINK         16977\n",
       "11           2 x RTX Titan         17863\n",
       "12    2 x RTX Titan+NVLINK         18118"
      ]
     },
     "execution_count": 16,
     "metadata": {},
     "output_type": "execute_result"
    }
   ],
   "source": [
    "df"
   ]
  },
  {
   "cell_type": "code",
   "execution_count": 17,
   "metadata": {},
   "outputs": [
    {
     "data": {
      "text/plain": [
       "Text(0.5, 1.0, 'Billion Word LSTM Train - FP32')"
      ]
     },
     "execution_count": 17,
     "metadata": {},
     "output_type": "execute_result"
    },
    {
     "data": {
      "image/png": "[encoded data removed]",
      "text/plain": [
       "<Figure size 576x432 with 1 Axes>"
      ]
     },
     "metadata": {
      "needs_background": "light"
     },
     "output_type": "display_data"
    }
   ],
   "source": [
    "plt.figure(figsize=(8,6))\n",
    "ax = sns.barplot(y=\"GPU\", x=\"words/second\", data=df, palette=\"Greens\")\n",
    "#ax.set_xlim(100,320)\n",
    "ax.set_title(\"Billion Word LSTM Train - FP32\", fontsize=18)"
   ]
  },
  {
   "cell_type": "code",
   "execution_count": null,
   "metadata": {},
   "outputs": [],
   "source": []
  }
 ],
 "metadata": {
  "kernelspec": {
   "display_name": "Python 3",
   "language": "python",
   "name": "python3"
  },
  "language_info": {
   "codemirror_mode": {
    "name": "ipython",
    "version": 3
   },
   "file_extension": ".py",
   "mimetype": "text/x-python",
   "name": "python",
   "nbconvert_exporter": "python",
   "pygments_lexer": "ipython3",
   "version": "3.7.2"
  }
 },
 "nbformat": 4,
 "nbformat_minor": 2
}
