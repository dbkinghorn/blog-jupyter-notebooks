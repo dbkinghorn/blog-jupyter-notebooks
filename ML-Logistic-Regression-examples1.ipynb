{
 "cells": [
  {
   "cell_type": "markdown",
   "metadata": {},
   "source": [
    "## Logistic Regression: Examples 1 -- 2D data fit with multinomial model and 0 1 digits classification on MNIST dataset.\n",
    "\n",
    "This post will be mostly Python code with implementation and examples of the Logistic Regression theory we have been discussing in the last few posts. Examples include fitting to 2 feature data using an arbitrary order multinomial model and a simple 2 class image classification problem using the MNIST digits data.\n",
    "\n",
    "I've done three earlier posts on Logistic Regression, [Logistic Regression Theory](https://www.pugetsystems.com/labs/hpc/Machine-Learning-and-Data-Science-Logistic-Regression-Theory-988/) and [Logistic and Linear Regression Regularization](https://www.pugetsystems.com/labs/hpc/Machine-Learning-and-Data-Science-Logistic-and-Linear-Regression-Regularization-994/), [Logistic Regression Implementation](https://www.pugetsystems.com/labs/hpc/Machine-Learning-and-Data-Science-Logistic-Regression-Implementation-996/). Those posts include discussion of logistic regression theory and derivation of the equations with the purpose of giving insight on how it works. The last post included a simple Python implementation of the equations and a simple example. \n",
    "\n",
    "This will be a \"calculator\" style implementation using Python in this Jupyter notebook. This will hopefully lift some of the veil off of black-box implementations in packages like [scikit-learn](http://scikit-learn.org/stable/). The code should be fairly easy to \"tinker\" with.\n",
    "\n",
    "I'll also exercise a \"best practice\" in data science by dividing the MNIST dataset into training-validation-test subsets for analysis.\n",
    "\n",
    ">This posts along with all of the others in this series were converted to html from Jupyter notebooks. The notebooks are available at [https://github.com/dbkinghorn/blog-jupyter-notebooks](https://github.com/dbkinghorn/blog-jupyter-notebooks)\n"
   ]
  },
  {
   "cell_type": "markdown",
   "metadata": {},
   "source": [
    "## Python functions to implement Logistic Regression\n",
    "\n",
    "To understand what is being implemented here refer to the previous posts mentioned near the top of this post. \n",
    "\n",
    "**Note: I have fixed a couple of bugs in code that I had in the last post. These were related to Python variable and function scoping.**  \n"
   ]
  },
  {
   "cell_type": "code",
   "execution_count": 1,
   "metadata": {
    "collapsed": true
   },
   "outputs": [],
   "source": [
    "import pandas as pd  # data handeling\n",
    "import numpy as np   # numerical computing\n",
    "from scipy.optimize import minimize  # optimization code\n",
    "import matplotlib.pyplot as plt  # plotting\n",
    "import seaborn as sns  \n",
    "%matplotlib inline\n",
    "sns.set()\n",
    "import itertools  # combinatorics functions for multinomial code"
   ]
  },
  {
   "cell_type": "code",
   "execution_count": 2,
   "metadata": {
    "collapsed": true
   },
   "outputs": [],
   "source": [
    "#\n",
    "# Main Logistic Regression Equations\n",
    "#\n",
    "def g(z) :  # sigmoid function\n",
    "    return 1.0/(1.0 + np.exp(-z))\n",
    "\n",
    "def h_logistic(X,a) : # Model function\n",
    "    return g(np.dot(X,a))\n",
    "\n",
    "def J(X,a,y) : # Cost Function \n",
    "    m = y.size\n",
    "    return -(np.sum(np.log(h_logistic(X,a))) + np.dot((y-1).T,(np.dot(X,a))))/m\n",
    "\n",
    "def J_reg(X,a,y,reg_lambda) : # Cost Function with Regularization\n",
    "    m = y.size\n",
    "    return J(X,a,y) + reg_lambda/(2.0*m) * np.dot(a[1:],a[1:])\n",
    "\n",
    "def gradJ(X,a,y) : # Gradient of Cost Function\n",
    "    m = y.size\n",
    "    return (np.dot(X.T,(h_logistic(X,a) - y)))/m\n",
    "\n",
    "def gradJ_reg(X,a,y,reg_lambda) : # Gradient of Cost Function with Regularization\n",
    "    m = y.size\n",
    "    return gradJ(X,a,y) + reg_lambda/(2.0*m) * np.concatenate(([0], a[1:])).T"
   ]
  },
  {
   "cell_type": "markdown",
   "metadata": {},
   "source": [
    "<hr />\n",
    "For the model checking function I have added all of the data for a [\"confusion matrix\"](https://en.wikipedia.org/wiki/Confusion_matrix) i.e. true positive, true negative, false positive and false negative. Using that data I ahve added [\"Precision\" and \"Recall\"](https://en.wikipedia.org/wiki/Precision_and_recall) measures."
   ]
  },
  {
   "cell_type": "code",
   "execution_count": 3,
   "metadata": {
    "collapsed": true
   },
   "outputs": [],
   "source": [
    "#\n",
    "# Some model checking functions\n",
    "#\n",
    "def to_0_1(h_prob) : # convert probabilites to true (1) or false (0) at cut-off 0.5\n",
    "    return np.where(h_prob >= 0.5, 1, 0)\n",
    "\n",
    "def model_accuracy(h,y) : # Overall accuracy of model\n",
    "    return np.sum(h==y)/y.size * 100 \n",
    "\n",
    "def model_accuracy_pos(h,y) : # Accuracy on positive cases\n",
    "    return np.sum(y[h==1] == 1)/y[y==1].size * 100\n",
    "    \n",
    "def model_accuracy_neg(h,y) : # Accuracy on negative cases\n",
    "    return np.sum(y[h==0] == 0)/y[y==0].size * 100\n",
    "    \n",
    "def false_pos(h,y) : # Number of false positives\n",
    "    return np.sum((y==0) & (h==1))\n",
    "\n",
    "def false_neg(h,y) : # Number of false negatives\n",
    "    return np.sum((y==1) & (h==0))\n",
    "\n",
    "def true_pos(h,y) : # Number of true positives\n",
    "    return np.sum((y==1) & (h==1))\n",
    "\n",
    "def true_neg(h,y) : # Number of true negatives\n",
    "    return np.sum((y==0) & (h==0))\n",
    "    \n",
    "def model_precision(h,y) : # Precision = TP/(TP+FP)\n",
    "    return true_pos(h,y)/(true_pos(h,y) + false_pos(h,y))\n",
    "\n",
    "def model_recall(h,y) : # Recall = TP/(TP+FN)\n",
    "    return true_pos(h,y)/(true_pos(h,y) + false_neg(h,y))\n",
    "\n",
    "def print_model_quality(title, h, y) : # Print the results of the functions above\n",
    "    print( '\\n# \\n# {} \\n#'.format(title) )\n",
    "    print( 'Total number of data points   = {}'.format(y.size))\n",
    "    print( 'Number of Positive values(1s) = {}'.format(y[y==1].size))\n",
    "    print( 'Number of Negative values(0s) = {}'.format(y[y==0].size))\n",
    "    print( '\\nNumber of True Positives = {}'.format(true_pos(h,y)) )\n",
    "    print( 'Number of False Positives = {}'.format(false_pos(h,y)) )\n",
    "    print( '\\nNumber of True Negatives = {}'.format(true_neg(h,y)) )\n",
    "    print( 'Number of False Negatives = {}'.format(false_neg(h,y)) )\n",
    "    print( '\\nModel Accuracy = {:.2f}%'.format( model_accuracy(h,y) ) )\n",
    "    print( 'Model Accuracy Positive Cases = {:.2f}%'.format( model_accuracy_pos(h,y) ) )\n",
    "    print( 'Model Accuracy Negative Cases = {:.2f}%'.format( model_accuracy_neg(h,y) ) )\n",
    "    print( '\\nModel Precision = {}'.format(model_precision(h,y)) )\n",
    "    print( '\\nModel Recall = {}'.format(model_recall(h,y)) )\n",
    "    \n"
   ]
  },
  {
   "cell_type": "markdown",
   "metadata": {},
   "source": [
    "<hr />\n",
    "I added the following \"utility functions\" to generate multinomial features and apply mean normalization to features. Normalization is particularly important in Logistic regression. "
   ]
  },
  {
   "cell_type": "code",
   "execution_count": 4,
   "metadata": {
    "collapsed": true
   },
   "outputs": [],
   "source": [
    "def multinomial_partitions(n, k):\n",
    "    \"\"\"returns an array of length k sequences of integer partitions of n\"\"\"\n",
    "    nparts = itertools.combinations(range(1, n+k), k-1)\n",
    "    tmp = [(0,) + p + (n+k,) for p  in nparts]\n",
    "    sequences =  np.diff(tmp) - 1\n",
    "    return sequences[::-1] # reverse the order\n",
    "\n",
    "def make_multinomial_features(fvecs,order=[1,2]) :\n",
    "    '''Make multinomial feature matrix\n",
    "       fvecs is a matrix of feature vectors (columns)\n",
    "       \"order\" is a set of multinomial degrees to create \n",
    "       default is [1,2] meaning for example: given f1, f2 in fvecs\n",
    "       return a matrix made up of a [1's column, f1,f2,f1**2,f1*f2,f2**2]   '''\n",
    "    Xtmp = np.ones_like(fvecs[:,0])\n",
    "    for ord in order :\n",
    "        if ord==1 :\n",
    "            fstmp = fvecs\n",
    "        else :\n",
    "            pwrs = multinomial_partitions(ord,fvecs.shape[1])\n",
    "            fstmp = np.column_stack( ( np.prod(fvecs**pwrs[i,:], axis=1) for i in range(pwrs.shape[0]) ))\n",
    "\n",
    "        Xtmp = np.column_stack((Xtmp,fstmp))\n",
    "    return Xtmp\n",
    "\n",
    "def mean_normalize(X):\n",
    "    '''apply mean normalization to each column of the matrix X'''\n",
    "    X_mean=X.mean(axis=0)\n",
    "    X_std=X.std(axis=0)\n",
    "    return (X-X_mean)/X_std\n",
    "\n",
    "def apply_normalizer(X,X_mean,X_std) :\n",
    "    return (X-X_mean)/X_std"
   ]
  },
  {
   "cell_type": "markdown",
   "metadata": {},
   "source": [
    "## Example of 2-D data using a multinomial feature model\n",
    "\n",
    "This first example is a variation of data that I used when describing \"decision boundaries\". I have made it a little more complicated and will use multinomial \"feature expansion\" on the two feature variables. This will also include some over-fitting and Regularization cases.\n"
   ]
  },
  {
   "cell_type": "code",
   "execution_count": 5,
   "metadata": {
    "collapsed": true
   },
   "outputs": [],
   "source": [
    "# Generate some \"interesting\" random 2-D data\n",
    "np.random.seed(42)\n",
    "px1, px2 = np.random.multivariate_normal([0,0], [[1,0.2],[0.8,1]] , 100).T\n",
    "t = np.linspace(0,2*np.pi,100)\n",
    "nx1, nx2 = (3+px1)*np.sin(t), (3+px2)*np.cos(t)"
   ]
  },
  {
   "cell_type": "code",
   "execution_count": 6,
   "metadata": {},
   "outputs": [
    {
     "data": {
      "image/png": "[encoded data removed]",
      "text/plain": [
       "<matplotlib.figure.Figure at 0x7f135e79ae48>"
      ]
     },
     "metadata": {},
     "output_type": "display_data"
    }
   ],
   "source": [
    "# Plot the data\n",
    "fig, ax = plt.subplots()\n",
    "ax.plot(nx1,nx2, \"o\", label='neg data' )\n",
    "ax.plot(px1,px2, \"P\", label='pos data')\n",
    "ax.axis('equal')\n",
    "plt.title(\"2-D dataset\", fontsize=24)\n",
    "ax.legend();"
   ]
  },
  {
   "cell_type": "markdown",
   "metadata": {},
   "source": [
    "<hr />\n",
    "We will obviously need a non-linear feature model to fit this data. We'll start by setting the data up for a logistic regression optimization run using a hybrid multinomial feature set that looks like,\n",
    "\n",
    "### $ [1, f_1, f_2, f_1^2, f_1 f_2, f_2^2 ]$\n",
    " "
   ]
  },
  {
   "cell_type": "code",
   "execution_count": 7,
   "metadata": {},
   "outputs": [
    {
     "name": "stdout",
     "output_type": "stream",
     "text": [
      "Number of multinolial features = 6\n"
     ]
    }
   ],
   "source": [
    "f1 = np.concatenate((nx1,px1))\n",
    "f2 = np.concatenate((nx2,px2))\n",
    "fs = np.column_stack((f1,f2))\n",
    "y = np.concatenate( (np.zeros(100), (np.ones(100))) )\n",
    "\n",
    "order = np.array([1,2])\n",
    "X = make_multinomial_features(fs,order=order)\n",
    "X[:,1:] = mean_normalize(X[:,1:])  # normalize but leave the bias term alone\n",
    "print('Number of multinolial features = {}'.format(X.shape[1]))"
   ]
  },
  {
   "cell_type": "markdown",
   "metadata": {},
   "source": [
    "<hr />\n",
    "Before the optimization run we need to setup wrappers around the cost functions and the gradient so they are in the correct for the optimization code. "
   ]
  },
  {
   "cell_type": "code",
   "execution_count": 8,
   "metadata": {
    "collapsed": true
   },
   "outputs": [],
   "source": [
    "def opt_J_reg(a) :\n",
    "    return J_reg(X,a,y,reg)\n",
    "\n",
    "def opt_gradJ_reg(a) :\n",
    "    return gradJ_reg(X,a,y,reg)"
   ]
  },
  {
   "cell_type": "markdown",
   "metadata": {},
   "source": [
    "<hr />\n",
    "Now do an optimization run to find the parameters $a$ for the model."
   ]
  },
  {
   "cell_type": "code",
   "execution_count": 9,
   "metadata": {},
   "outputs": [
    {
     "name": "stdout",
     "output_type": "stream",
     "text": [
      "Optimization terminated successfully.\n",
      "         Current function value: 0.174379\n",
      "         Iterations: 38\n",
      "         Function evaluations: 40\n",
      "         Gradient evaluations: 40\n"
     ]
    }
   ],
   "source": [
    "reg = 0.0 # no regularization on this run\n",
    "def opt_J_reg(a) :\n",
    "    return J_reg(X,a,y,reg)\n",
    "\n",
    "def opt_gradJ_reg(a) :\n",
    "    return gradJ_reg(X,a,y,reg)\n",
    "aguess = np.ones(X.shape[1]) # make a random starting guess\n",
    "\n",
    "res = minimize(opt_J_reg, aguess, method='BFGS', jac=opt_gradJ_reg, tol=1e-4, options={'disp': True}) "
   ]
  },
  {
   "cell_type": "markdown",
   "metadata": {},
   "source": [
    "<hr />\n",
    "Take a quick look at the optimizied $a$,"
   ]
  },
  {
   "cell_type": "code",
   "execution_count": 10,
   "metadata": {},
   "outputs": [
    {
     "name": "stdout",
     "output_type": "stream",
     "text": [
      "[-2.55931254 -0.0870605   0.71439094 -5.44404492  2.52102583 -5.27329538]\n"
     ]
    }
   ],
   "source": [
    "a_opt = res.x\n",
    "print(a_opt)"
   ]
  },
  {
   "cell_type": "markdown",
   "metadata": {},
   "source": [
    "<hr />\n",
    "Here's some data about the quality of the fit,"
   ]
  },
  {
   "cell_type": "code",
   "execution_count": 11,
   "metadata": {},
   "outputs": [
    {
     "name": "stdout",
     "output_type": "stream",
     "text": [
      "\n",
      "# \n",
      "# Traing-data fit \n",
      "#\n",
      "Total number of data points   = 200\n",
      "Number of Positive values(1s) = 100\n",
      "Number of Negative values(0s) = 100\n",
      "\n",
      "Number of True Positives = 95\n",
      "Number of False Positives = 8\n",
      "\n",
      "Number of True Negatives = 92\n",
      "Number of False Negatives = 5\n",
      "\n",
      "Model Accuracy = 93.50%\n",
      "Model Accuracy Positive Cases = 95.00%\n",
      "Model Accuracy Negative Cases = 92.00%\n",
      "\n",
      "Model Precision = 0.9223300970873787\n",
      "\n",
      "Model Recall = 0.95\n"
     ]
    }
   ],
   "source": [
    "h_prob = h_logistic(X,a_opt)  # get the probabilities of the from the model using a_opt\n",
    "h_predict = to_0_1(h_prob)    # convert the probabilities to 0,1 predictions at cutoff 0.5\n",
    "print_model_quality('Traing-data fit', h_predict, y)"
   ]
  },
  {
   "cell_type": "markdown",
   "metadata": {},
   "source": [
    "<hr />\n",
    "That looks like a reasonably good fit to the data. (I am not doing validation and test set checking for this example) \n",
    "\n",
    "Lets take a look at a plot of the fit,"
   ]
  },
  {
   "cell_type": "code",
   "execution_count": 12,
   "metadata": {},
   "outputs": [
    {
     "data": {
      "image/png": "[encoded data removed]",
      "text/plain": [
       "<matplotlib.figure.Figure at 0x7f135e79acc0>"
      ]
     },
     "metadata": {},
     "output_type": "display_data"
    }
   ],
   "source": [
    "fig, ax = plt.subplots()\n",
    "ax.plot(X[0:100,1],X[0:100,2], \"o\", label='neg data' )\n",
    "ax.plot(X[100:,1],X[100:,2], \"P\", label='pos data')\n",
    "\n",
    "xb1 = np.linspace(-1.5, 1.5, 100)\n",
    "xb2 = np.linspace(-1.5, 1.5, 100)\n",
    "\n",
    "#Xb1, Xb2 = np.meshgrid(mean_normalize(xb1), mean_normalize(xb2))\n",
    "Xb1, Xb2 = np.meshgrid(xb1, xb2)\n",
    "\n",
    "BX = make_multinomial_features(np.column_stack((Xb1.flatten(),Xb2.flatten())),order=order)\n",
    "BX[:,1:] = mean_normalize(BX[:,1:])\n",
    "\n",
    "B = np.sum(a_opt*BX, axis=1).reshape((100,100))\n",
    "\n",
    "ax.contour(Xb1,Xb2,B, colors='r', levels=[0])\n",
    "\n",
    "ax.axis('equal')\n",
    "plt.title(\"Decision Boundary From Fit\", fontsize=24)\n",
    "plt.legend();"
   ]
  },
  {
   "cell_type": "markdown",
   "metadata": {},
   "source": [
    "<hr />\n",
    "Now we'll try the fit using a multinomial feature set up to order 6!\n",
    "\n",
    "### $ [1, f_1, f_2, f_1^2, f_1 f_2, f_2^2,f_1^3 \\cdots,f_1f_2^5, f_2^6 ]$"
   ]
  },
  {
   "cell_type": "code",
   "execution_count": 13,
   "metadata": {},
   "outputs": [
    {
     "name": "stdout",
     "output_type": "stream",
     "text": [
      "Number of multinomial features = 28\n"
     ]
    }
   ],
   "source": [
    "order = np.array([1,2,3,4,5,6])\n",
    "X = make_multinomial_features(fs,order=order)\n",
    "X[:,1:] = mean_normalize(X[:,1:])  # normalize but leave the bias term alone\n",
    "print('Number of multinomial features = {}'.format(X.shape[1]))"
   ]
  },
  {
   "cell_type": "code",
   "execution_count": 14,
   "metadata": {},
   "outputs": [
    {
     "name": "stdout",
     "output_type": "stream",
     "text": [
      "Warning: Desired error not necessarily achieved due to precision loss.\n",
      "         Current function value: 0.133673\n",
      "         Iterations: 123\n",
      "         Function evaluations: 140\n",
      "         Gradient evaluations: 130\n"
     ]
    },
    {
     "name": "stderr",
     "output_type": "stream",
     "text": [
      "/home/kinghorn/anaconda3/lib/python3.6/site-packages/ipykernel_launcher.py:5: RuntimeWarning: overflow encountered in exp\n",
      "  \"\"\"\n",
      "/home/kinghorn/anaconda3/lib/python3.6/site-packages/ipykernel_launcher.py:12: RuntimeWarning: divide by zero encountered in log\n",
      "  if sys.path[0] == '':\n",
      "/home/kinghorn/anaconda3/lib/python3.6/site-packages/ipykernel_launcher.py:5: RuntimeWarning: overflow encountered in exp\n",
      "  \"\"\"\n",
      "/home/kinghorn/anaconda3/lib/python3.6/site-packages/ipykernel_launcher.py:12: RuntimeWarning: divide by zero encountered in log\n",
      "  if sys.path[0] == '':\n"
     ]
    }
   ],
   "source": [
    "reg = 0.0 # no regularization on this run\n",
    "\n",
    "aguess = np.ones(X.shape[1]) # make a random starting guess\n",
    "\n",
    "res = minimize(opt_J_reg, aguess, method='BFGS', jac=opt_gradJ_reg, tol=1e-4, options={'disp': True}) "
   ]
  },
  {
   "cell_type": "code",
   "execution_count": 15,
   "metadata": {},
   "outputs": [
    {
     "name": "stdout",
     "output_type": "stream",
     "text": [
      "[-25.83054628   1.91599264  -2.18003373  -7.23297228  -4.42150473\n",
      "  -9.04500407  -4.85325203  16.09550436 -16.15373297   4.33889798\n",
      " -16.21215182  41.0905519   -3.18469102  10.23059434  -4.22973383\n",
      " -12.93519374 -23.72944353  13.27775859  10.43000405  12.19747541\n",
      "  -3.36204064 -14.25716642 -14.97108344 -24.36744587  -4.68677728\n",
      "  -7.52314346  -1.31983794  -7.71650312]\n"
     ]
    }
   ],
   "source": [
    "a_opt = res.x\n",
    "print(a_opt)"
   ]
  },
  {
   "cell_type": "markdown",
   "metadata": {},
   "source": [
    "<hr />\n",
    "The optimization had some trouble because of the size of the parameters and gave warnings about divide by zero."
   ]
  },
  {
   "cell_type": "code",
   "execution_count": 16,
   "metadata": {},
   "outputs": [
    {
     "name": "stdout",
     "output_type": "stream",
     "text": [
      "\n",
      "# \n",
      "# Traing-data fit \n",
      "#\n",
      "Total number of data points   = 200\n",
      "Number of Positive values(1s) = 100\n",
      "Number of Negative values(0s) = 100\n",
      "\n",
      "Number of True Positives = 96\n",
      "Number of False Positives = 7\n",
      "\n",
      "Number of True Negatives = 93\n",
      "Number of False Negatives = 4\n",
      "\n",
      "Model Accuracy = 94.50%\n",
      "Model Accuracy Positive Cases = 96.00%\n",
      "Model Accuracy Negative Cases = 93.00%\n",
      "\n",
      "Model Precision = 0.9320388349514563\n",
      "\n",
      "Model Recall = 0.96\n"
     ]
    }
   ],
   "source": [
    "h_prob = h_logistic(X,a_opt)  # get the probabilities of the from the model using a_opt\n",
    "h_predict = to_0_1(h_prob)    # convert the probabilities to 0,1 predictions at cutoff 0.5\n",
    "print_model_quality('Traing-data fit', h_predict, y)"
   ]
  },
  {
   "cell_type": "markdown",
   "metadata": {},
   "source": [
    "<hr />\n",
    "The model fit quality does look good. Let's look at a plot of the fit,"
   ]
  },
  {
   "cell_type": "code",
   "execution_count": 17,
   "metadata": {},
   "outputs": [
    {
     "data": {
      "image/png": "[encoded data removed]",
      "text/plain": [
       "<matplotlib.figure.Figure at 0x7f1335384d30>"
      ]
     },
     "metadata": {},
     "output_type": "display_data"
    }
   ],
   "source": [
    "fig, ax = plt.subplots()\n",
    "ax.plot(X[0:100,1],X[0:100,2], \"o\", label='neg data' )\n",
    "ax.plot(X[100:,1],X[100:,2], \"P\", label='pos data')\n",
    "\n",
    "xb1 = np.linspace(-1.5, 1.5, 100)\n",
    "xb2 = np.linspace(-1.5, 1.5, 100)\n",
    "\n",
    "#Xb1, Xb2 = np.meshgrid(mean_normalize(xb1), mean_normalize(xb2))\n",
    "Xb1, Xb2 = np.meshgrid(xb1, xb2)\n",
    "\n",
    "BX = make_multinomial_features(np.column_stack((Xb1.flatten(),Xb2.flatten())),order=order)\n",
    "BX[:,1:] = mean_normalize(BX[:,1:])\n",
    "\n",
    "B = np.sum(a_opt*BX, axis=1).reshape((100,100))\n",
    "\n",
    "ax.contour(Xb1,Xb2,B, colors='r', levels=[0])\n",
    "\n",
    "ax.axis('equal')\n",
    "plt.title(\"Decision Boundary From Fit\", fontsize=24)\n",
    "plt.legend();"
   ]
  },
  {
   "cell_type": "markdown",
   "metadata": {},
   "source": [
    "<hr />\n",
    "The plot looks OK but the model boundary is getting a bit wobbly. Let's try it again with a small regularization value added."
   ]
  },
  {
   "cell_type": "code",
   "execution_count": 18,
   "metadata": {},
   "outputs": [
    {
     "name": "stdout",
     "output_type": "stream",
     "text": [
      "Warning: Desired error not necessarily achieved due to precision loss.\n",
      "         Current function value: 0.243149\n",
      "         Iterations: 22\n",
      "         Function evaluations: 89\n",
      "         Gradient evaluations: 78\n"
     ]
    }
   ],
   "source": [
    "reg = 1.0 # no regularization on this run\n",
    "\n",
    "aguess = np.ones(X.shape[1]) # make a random starting guess\n",
    "\n",
    "res = minimize(opt_J_reg, aguess, method='BFGS', jac=opt_gradJ_reg, tol=1e-4, options={'disp': True}) "
   ]
  },
  {
   "cell_type": "code",
   "execution_count": 19,
   "metadata": {},
   "outputs": [
    {
     "name": "stdout",
     "output_type": "stream",
     "text": [
      "[-2.03340023  0.29231676  0.24372954 -2.84129446  0.75850419 -2.78556633\n",
      " -0.10303138  0.14859169  0.0797471  -0.06084818 -1.09411076  0.1178533\n",
      " -0.77473628  0.21184059 -1.23582341  0.03323504  0.18950555  0.16011281\n",
      "  0.16747923  0.4755728   0.01901587 -0.22881667  0.13537621  0.08746756\n",
      "  0.24180835  0.09574047  0.21421962 -0.42770074]\n"
     ]
    }
   ],
   "source": [
    "a_opt = res.x\n",
    "print(a_opt)"
   ]
  },
  {
   "cell_type": "code",
   "execution_count": 20,
   "metadata": {},
   "outputs": [
    {
     "name": "stdout",
     "output_type": "stream",
     "text": [
      "\n",
      "# \n",
      "# Traing-data fit \n",
      "#\n",
      "Total number of data points   = 200\n",
      "Number of Positive values(1s) = 100\n",
      "Number of Negative values(0s) = 100\n",
      "\n",
      "Number of True Positives = 96\n",
      "Number of False Positives = 8\n",
      "\n",
      "Number of True Negatives = 92\n",
      "Number of False Negatives = 4\n",
      "\n",
      "Model Accuracy = 94.00%\n",
      "Model Accuracy Positive Cases = 96.00%\n",
      "Model Accuracy Negative Cases = 92.00%\n",
      "\n",
      "Model Precision = 0.9230769230769231\n",
      "\n",
      "Model Recall = 0.96\n"
     ]
    }
   ],
   "source": [
    "h_prob = h_logistic(X,a_opt)  # get the probabilities of the from the model using a_opt\n",
    "h_predict = to_0_1(h_prob)    # convert the probabilities to 0,1 predictions at cutoff 0.5\n",
    "print_model_quality('Traing-data fit', h_predict, y)"
   ]
  },
  {
   "cell_type": "markdown",
   "metadata": {},
   "source": [
    "<hr />\n",
    "Now the parameters $a$ are closer to 1 and the optimization no longer has a divide by zero warning but it is still complaining about convergence. The fit quality looks good. Lets take a look at a plot,"
   ]
  },
  {
   "cell_type": "code",
   "execution_count": 21,
   "metadata": {},
   "outputs": [
    {
     "data": {
      "image/png": "[encoded data removed]",
      "text/plain": [
       "<matplotlib.figure.Figure at 0x7f13353cae48>"
      ]
     },
     "metadata": {},
     "output_type": "display_data"
    }
   ],
   "source": [
    "fig, ax = plt.subplots()\n",
    "ax.plot(X[0:100,1],X[0:100,2], \"o\", label='neg data' )\n",
    "ax.plot(X[100:,1],X[100:,2], \"P\", label='pos data')\n",
    "\n",
    "xb1 = np.linspace(-1.5, 1.5, 100)\n",
    "xb2 = np.linspace(-1.5, 1.5, 100)\n",
    "\n",
    "#Xb1, Xb2 = np.meshgrid(mean_normalize(xb1), mean_normalize(xb2))\n",
    "Xb1, Xb2 = np.meshgrid(xb1, xb2)\n",
    "\n",
    "BX = make_multinomial_features(np.column_stack((Xb1.flatten(),Xb2.flatten())),order=order)\n",
    "BX[:,1:] = mean_normalize(BX[:,1:])\n",
    "\n",
    "B = np.sum(a_opt*BX, axis=1).reshape((100,100))\n",
    "\n",
    "ax.contour(Xb1,Xb2,B, colors='r', levels=[0])\n",
    "\n",
    "ax.axis('equal')\n",
    "plt.title(\"Decision Boundary From Fit\", fontsize=24)\n",
    "plt.legend();"
   ]
  },
  {
   "cell_type": "markdown",
   "metadata": {},
   "source": [
    "<hr />\n",
    "The plot boundary is smoother and probably a more reasonable model. I hope this example has given you some idea of how multinomial features and regularization can effect model fitting for Logistic Regression. \n",
    "\n",
    "**This is really kind of fun to play around with! If you want to try the code and experiment yourself feel free to grad the Jupyter notebook from the GitHub link I gave near the top of the post.** \n",
    "\n",
    "In the next section we'll look at a simple image classification example. "
   ]
  },
  {
   "cell_type": "markdown",
   "metadata": {},
   "source": [
    "## Two class Image classification example using data from the MNIST dataset\n",
    "\n",
    "For this example I pulled the [MNIST training set from **Kaggle**](https://www.kaggle.com/c/digit-recognizer/data). For information on the dataset itself see [Yann Lecun's site http://yann.lecun.com/exdb/mnist/index.html](http://yann.lecun.com/exdb/mnist/index.html). I used the data from Kaggel since it is in an easy to use format. ([Kaggle](https://www.kaggle.com/) is a great site for Machine Learning and there are many useful datasets and example problems there.)  \n",
    "\n",
    "The reason I only pulled the training set from Kaggel is because I want to explicitly show splitting up a dataset into separate sets for training. validation, and testing. The training set should be the largest set since that is where the model fitting takes place. The validation set is used for evaluating the effect of making adjustments to \"hyper-parameters\" of the method used to construct the model. The test set is the finial judge of the \"generalization\" or usefulness of the model for making predictions.\n",
    "\n",
    "The first thing to do is load up the data and have a look at it,"
   ]
  },
  {
   "cell_type": "code",
   "execution_count": 22,
   "metadata": {},
   "outputs": [
    {
     "data": {
      "text/html": [
       "<div>\n",
       "<table border=\"1\" class=\"dataframe\">\n",
       "  <thead>\n",
       "    <tr style=\"text-align: right;\">\n",
       "      <th></th>\n",
       "      <th>label</th>\n",
       "      <th>pixel0</th>\n",
       "      <th>pixel1</th>\n",
       "      <th>pixel2</th>\n",
       "      <th>pixel3</th>\n",
       "      <th>pixel4</th>\n",
       "      <th>pixel5</th>\n",
       "      <th>pixel6</th>\n",
       "      <th>pixel7</th>\n",
       "      <th>pixel8</th>\n",
       "      <th>...</th>\n",
       "      <th>pixel774</th>\n",
       "      <th>pixel775</th>\n",
       "      <th>pixel776</th>\n",
       "      <th>pixel777</th>\n",
       "      <th>pixel778</th>\n",
       "      <th>pixel779</th>\n",
       "      <th>pixel780</th>\n",
       "      <th>pixel781</th>\n",
       "      <th>pixel782</th>\n",
       "      <th>pixel783</th>\n",
       "    </tr>\n",
       "  </thead>\n",
       "  <tbody>\n",
       "    <tr>\n",
       "      <th>0</th>\n",
       "      <td>1</td>\n",
       "      <td>0</td>\n",
       "      <td>0</td>\n",
       "      <td>0</td>\n",
       "      <td>0</td>\n",
       "      <td>0</td>\n",
       "      <td>0</td>\n",
       "      <td>0</td>\n",
       "      <td>0</td>\n",
       "      <td>0</td>\n",
       "      <td>...</td>\n",
       "      <td>0</td>\n",
       "      <td>0</td>\n",
       "      <td>0</td>\n",
       "      <td>0</td>\n",
       "      <td>0</td>\n",
       "      <td>0</td>\n",
       "      <td>0</td>\n",
       "      <td>0</td>\n",
       "      <td>0</td>\n",
       "      <td>0</td>\n",
       "    </tr>\n",
       "    <tr>\n",
       "      <th>1</th>\n",
       "      <td>0</td>\n",
       "      <td>0</td>\n",
       "      <td>0</td>\n",
       "      <td>0</td>\n",
       "      <td>0</td>\n",
       "      <td>0</td>\n",
       "      <td>0</td>\n",
       "      <td>0</td>\n",
       "      <td>0</td>\n",
       "      <td>0</td>\n",
       "      <td>...</td>\n",
       "      <td>0</td>\n",
       "      <td>0</td>\n",
       "      <td>0</td>\n",
       "      <td>0</td>\n",
       "      <td>0</td>\n",
       "      <td>0</td>\n",
       "      <td>0</td>\n",
       "      <td>0</td>\n",
       "      <td>0</td>\n",
       "      <td>0</td>\n",
       "    </tr>\n",
       "    <tr>\n",
       "      <th>2</th>\n",
       "      <td>1</td>\n",
       "      <td>0</td>\n",
       "      <td>0</td>\n",
       "      <td>0</td>\n",
       "      <td>0</td>\n",
       "      <td>0</td>\n",
       "      <td>0</td>\n",
       "      <td>0</td>\n",
       "      <td>0</td>\n",
       "      <td>0</td>\n",
       "      <td>...</td>\n",
       "      <td>0</td>\n",
       "      <td>0</td>\n",
       "      <td>0</td>\n",
       "      <td>0</td>\n",
       "      <td>0</td>\n",
       "      <td>0</td>\n",
       "      <td>0</td>\n",
       "      <td>0</td>\n",
       "      <td>0</td>\n",
       "      <td>0</td>\n",
       "    </tr>\n",
       "    <tr>\n",
       "      <th>3</th>\n",
       "      <td>4</td>\n",
       "      <td>0</td>\n",
       "      <td>0</td>\n",
       "      <td>0</td>\n",
       "      <td>0</td>\n",
       "      <td>0</td>\n",
       "      <td>0</td>\n",
       "      <td>0</td>\n",
       "      <td>0</td>\n",
       "      <td>0</td>\n",
       "      <td>...</td>\n",
       "      <td>0</td>\n",
       "      <td>0</td>\n",
       "      <td>0</td>\n",
       "      <td>0</td>\n",
       "      <td>0</td>\n",
       "      <td>0</td>\n",
       "      <td>0</td>\n",
       "      <td>0</td>\n",
       "      <td>0</td>\n",
       "      <td>0</td>\n",
       "    </tr>\n",
       "    <tr>\n",
       "      <th>4</th>\n",
       "      <td>0</td>\n",
       "      <td>0</td>\n",
       "      <td>0</td>\n",
       "      <td>0</td>\n",
       "      <td>0</td>\n",
       "      <td>0</td>\n",
       "      <td>0</td>\n",
       "      <td>0</td>\n",
       "      <td>0</td>\n",
       "      <td>0</td>\n",
       "      <td>...</td>\n",
       "      <td>0</td>\n",
       "      <td>0</td>\n",
       "      <td>0</td>\n",
       "      <td>0</td>\n",
       "      <td>0</td>\n",
       "      <td>0</td>\n",
       "      <td>0</td>\n",
       "      <td>0</td>\n",
       "      <td>0</td>\n",
       "      <td>0</td>\n",
       "    </tr>\n",
       "    <tr>\n",
       "      <th>5</th>\n",
       "      <td>0</td>\n",
       "      <td>0</td>\n",
       "      <td>0</td>\n",
       "      <td>0</td>\n",
       "      <td>0</td>\n",
       "      <td>0</td>\n",
       "      <td>0</td>\n",
       "      <td>0</td>\n",
       "      <td>0</td>\n",
       "      <td>0</td>\n",
       "      <td>...</td>\n",
       "      <td>0</td>\n",
       "      <td>0</td>\n",
       "      <td>0</td>\n",
       "      <td>0</td>\n",
       "      <td>0</td>\n",
       "      <td>0</td>\n",
       "      <td>0</td>\n",
       "      <td>0</td>\n",
       "      <td>0</td>\n",
       "      <td>0</td>\n",
       "    </tr>\n",
       "    <tr>\n",
       "      <th>6</th>\n",
       "      <td>7</td>\n",
       "      <td>0</td>\n",
       "      <td>0</td>\n",
       "      <td>0</td>\n",
       "      <td>0</td>\n",
       "      <td>0</td>\n",
       "      <td>0</td>\n",
       "      <td>0</td>\n",
       "      <td>0</td>\n",
       "      <td>0</td>\n",
       "      <td>...</td>\n",
       "      <td>0</td>\n",
       "      <td>0</td>\n",
       "      <td>0</td>\n",
       "      <td>0</td>\n",
       "      <td>0</td>\n",
       "      <td>0</td>\n",
       "      <td>0</td>\n",
       "      <td>0</td>\n",
       "      <td>0</td>\n",
       "      <td>0</td>\n",
       "    </tr>\n",
       "    <tr>\n",
       "      <th>7</th>\n",
       "      <td>3</td>\n",
       "      <td>0</td>\n",
       "      <td>0</td>\n",
       "      <td>0</td>\n",
       "      <td>0</td>\n",
       "      <td>0</td>\n",
       "      <td>0</td>\n",
       "      <td>0</td>\n",
       "      <td>0</td>\n",
       "      <td>0</td>\n",
       "      <td>...</td>\n",
       "      <td>0</td>\n",
       "      <td>0</td>\n",
       "      <td>0</td>\n",
       "      <td>0</td>\n",
       "      <td>0</td>\n",
       "      <td>0</td>\n",
       "      <td>0</td>\n",
       "      <td>0</td>\n",
       "      <td>0</td>\n",
       "      <td>0</td>\n",
       "    </tr>\n",
       "    <tr>\n",
       "      <th>8</th>\n",
       "      <td>5</td>\n",
       "      <td>0</td>\n",
       "      <td>0</td>\n",
       "      <td>0</td>\n",
       "      <td>0</td>\n",
       "      <td>0</td>\n",
       "      <td>0</td>\n",
       "      <td>0</td>\n",
       "      <td>0</td>\n",
       "      <td>0</td>\n",
       "      <td>...</td>\n",
       "      <td>0</td>\n",
       "      <td>0</td>\n",
       "      <td>0</td>\n",
       "      <td>0</td>\n",
       "      <td>0</td>\n",
       "      <td>0</td>\n",
       "      <td>0</td>\n",
       "      <td>0</td>\n",
       "      <td>0</td>\n",
       "      <td>0</td>\n",
       "    </tr>\n",
       "    <tr>\n",
       "      <th>9</th>\n",
       "      <td>3</td>\n",
       "      <td>0</td>\n",
       "      <td>0</td>\n",
       "      <td>0</td>\n",
       "      <td>0</td>\n",
       "      <td>0</td>\n",
       "      <td>0</td>\n",
       "      <td>0</td>\n",
       "      <td>0</td>\n",
       "      <td>0</td>\n",
       "      <td>...</td>\n",
       "      <td>0</td>\n",
       "      <td>0</td>\n",
       "      <td>0</td>\n",
       "      <td>0</td>\n",
       "      <td>0</td>\n",
       "      <td>0</td>\n",
       "      <td>0</td>\n",
       "      <td>0</td>\n",
       "      <td>0</td>\n",
       "      <td>0</td>\n",
       "    </tr>\n",
       "  </tbody>\n",
       "</table>\n",
       "<p>10 rows × 785 columns</p>\n",
       "</div>"
      ],
      "text/plain": [
       "   label  pixel0  pixel1  pixel2  pixel3  pixel4  pixel5  pixel6  pixel7  \\\n",
       "0      1       0       0       0       0       0       0       0       0   \n",
       "1      0       0       0       0       0       0       0       0       0   \n",
       "2      1       0       0       0       0       0       0       0       0   \n",
       "3      4       0       0       0       0       0       0       0       0   \n",
       "4      0       0       0       0       0       0       0       0       0   \n",
       "5      0       0       0       0       0       0       0       0       0   \n",
       "6      7       0       0       0       0       0       0       0       0   \n",
       "7      3       0       0       0       0       0       0       0       0   \n",
       "8      5       0       0       0       0       0       0       0       0   \n",
       "9      3       0       0       0       0       0       0       0       0   \n",
       "\n",
       "   pixel8    ...     pixel774  pixel775  pixel776  pixel777  pixel778  \\\n",
       "0       0    ...            0         0         0         0         0   \n",
       "1       0    ...            0         0         0         0         0   \n",
       "2       0    ...            0         0         0         0         0   \n",
       "3       0    ...            0         0         0         0         0   \n",
       "4       0    ...            0         0         0         0         0   \n",
       "5       0    ...            0         0         0         0         0   \n",
       "6       0    ...            0         0         0         0         0   \n",
       "7       0    ...            0         0         0         0         0   \n",
       "8       0    ...            0         0         0         0         0   \n",
       "9       0    ...            0         0         0         0         0   \n",
       "\n",
       "   pixel779  pixel780  pixel781  pixel782  pixel783  \n",
       "0         0         0         0         0         0  \n",
       "1         0         0         0         0         0  \n",
       "2         0         0         0         0         0  \n",
       "3         0         0         0         0         0  \n",
       "4         0         0         0         0         0  \n",
       "5         0         0         0         0         0  \n",
       "6         0         0         0         0         0  \n",
       "7         0         0         0         0         0  \n",
       "8         0         0         0         0         0  \n",
       "9         0         0         0         0         0  \n",
       "\n",
       "[10 rows x 785 columns]"
      ]
     },
     "execution_count": 22,
     "metadata": {},
     "output_type": "execute_result"
    }
   ],
   "source": [
    "data_full = pd.read_csv(\"./data/kg-mnist/train.csv\")\n",
    "data_full.head(10)"
   ]
  },
  {
   "cell_type": "markdown",
   "metadata": {},
   "source": [
    "<hr />\n",
    "The data is laid out with each row being an image with the image label (0-9) as the first element of the row. The following 784 columns are the 28 x 28 pixie image \"flattened out\" as a vector of gray-scale values. The 784 pixel gray-scale intensities are the \"features\".\n",
    "\n",
    "I'll convert the dataframe to a matrix and show the image in the 6th row (a 7). There are 42000 images in this dataset."
   ]
  },
  {
   "cell_type": "code",
   "execution_count": 23,
   "metadata": {},
   "outputs": [
    {
     "name": "stdout",
     "output_type": "stream",
     "text": [
      "(42000, 785)\n"
     ]
    }
   ],
   "source": [
    "data_full_matrix=data_full.as_matrix()\n",
    "print(data_full_matrix.shape)"
   ]
  },
  {
   "cell_type": "code",
   "execution_count": 24,
   "metadata": {},
   "outputs": [
    {
     "data": {
      "text/plain": [
       "<matplotlib.image.AxesImage at 0x7f13350fc5c0>"
      ]
     },
     "execution_count": 24,
     "metadata": {},
     "output_type": "execute_result"
    },
    {
     "data": {
      "image/png": "[encoded data removed]",
      "text/plain": [
       "<matplotlib.figure.Figure at 0x7f13390a34e0>"
      ]
     },
     "metadata": {},
     "output_type": "display_data"
    }
   ],
   "source": [
    "plt.imshow(data_full_matrix[6,1:].reshape((28,28)))"
   ]
  },
  {
   "cell_type": "markdown",
   "metadata": {},
   "source": [
    "The image is shown fairly large on the screen. You can clearly see the pixels and their relative gray-scale values."
   ]
  },
  {
   "cell_type": "markdown",
   "metadata": {},
   "source": [
    "<hr />\n",
    "Now I'll pull out just the 0 1nd 1 images (data_01) and the corresponding labels (y_01),"
   ]
  },
  {
   "cell_type": "code",
   "execution_count": 25,
   "metadata": {},
   "outputs": [
    {
     "name": "stdout",
     "output_type": "stream",
     "text": [
      "(8816, 784)\n"
     ]
    }
   ],
   "source": [
    "idx = np.logical_or(data_full_matrix[:,0]==0,  data_full_matrix[:,0]==1)\n",
    "\n",
    "y_01, data_01 = data_full_matrix[idx,0], data_full_matrix[idx,1:]\n",
    "print(data_01.shape)"
   ]
  },
  {
   "cell_type": "markdown",
   "metadata": {},
   "source": [
    "There are now 8816 images of 0's and 1's in (data_01). Some of the feature columns in data_01 have all 0 gray-scale values i.e. they are empty boarders. Let's remove those \"features\". We will have 588 columns in data_01 after their removal.  "
   ]
  },
  {
   "cell_type": "code",
   "execution_count": 26,
   "metadata": {},
   "outputs": [
    {
     "name": "stdout",
     "output_type": "stream",
     "text": [
      "(8816, 588)\n"
     ]
    }
   ],
   "source": [
    "data_01 = data_01[:,data_01.sum(axis=0)!=0]\n",
    "print(data_01.shape)"
   ]
  },
  {
   "cell_type": "markdown",
   "metadata": {},
   "source": [
    "<hr />\n",
    "The next thing to do is break up the data set in training, validation and test sets. I'll print out the shapes of the datasets and label vectors. We will have 6170 training samples and 1323 samples for validation and testing."
   ]
  },
  {
   "cell_type": "code",
   "execution_count": 27,
   "metadata": {},
   "outputs": [
    {
     "name": "stdout",
     "output_type": "stream",
     "text": [
      "(6170, 588) (6170,)\n",
      "(1323, 588) (1323,)\n",
      "(1323, 588) (1323,)\n"
     ]
    }
   ],
   "source": [
    "data_train_01,y_train_01 = data_01[0:6170,:],     y_01[0:6170]\n",
    "data_val_01, y_val_01    = data_01[6170:7493,:],  y_01[6170:7493]\n",
    "data_test_01, y_test_01  = data_01[7493:,:],      y_01[7493:]\n",
    "\n",
    "print(data_train_01.shape,y_train_01.shape)\n",
    "print(data_val_01.shape, y_val_01.shape)\n",
    "print(data_test_01.shape, y_test_01.shape)"
   ]
  },
  {
   "cell_type": "markdown",
   "metadata": {},
   "source": [
    "<hr />\n",
    "Next we setup the data for the optimization run. We want the data to all be normalized by the same mean and standard deviation so that all of the sets are scaled in the same way. I'll pull the mean and standard deviation from the full 0,1 dataset data_01 and apply it to all of the datasets.\n",
    "\n",
    "At the same time I'll setup the augmented matrix with ones in the first column for the bias term using the make_multinomial_features function using \"order\" set to [1]. [I could add multinomial features but that gets to be VERY large ... I tried it and am still experimenting with subsets :-)]"
   ]
  },
  {
   "cell_type": "code",
   "execution_count": 28,
   "metadata": {
    "collapsed": true
   },
   "outputs": [],
   "source": [
    "X_mean = data_01.mean(axis=0)\n",
    "X_std  = data_01.std(axis=0)\n",
    "X_std[X_std==0]=1.0 # if there are any 0 values in X_std set them to 1\n",
    "\n",
    "order = np.array([1])\n",
    "\n",
    "X_train = make_multinomial_features(data_train_01, order=order)\n",
    "X_train[:,1:] = apply_normalizer(X_train[:,1:],X_mean,X_std)\n",
    "y_train = y_train_01\n",
    "\n",
    "X_val = make_multinomial_features(data_val_01, order=order)\n",
    "X_val[:,1:] = apply_normalizer(X_val[:,1:],X_mean,X_std)\n",
    "y_val = y_val_01\n",
    "\n",
    "X_test = make_multinomial_features(data_test_01, order=order)\n",
    "X_test[:,1:] = apply_normalizer(X_test[:,1:],X_mean,X_std)\n",
    "y_test = y_test_01\n"
   ]
  },
  {
   "cell_type": "markdown",
   "metadata": {},
   "source": [
    "### Optimization run on Training set"
   ]
  },
  {
   "cell_type": "code",
   "execution_count": 29,
   "metadata": {
    "collapsed": true
   },
   "outputs": [],
   "source": [
    "def opt_J_reg(a) :\n",
    "    return J(X_train,a,y_train)\n",
    "\n",
    "def opt_gradJ_reg(a) :\n",
    "    return gradJ_reg(X_train,a,y_train,reg)"
   ]
  },
  {
   "cell_type": "code",
   "execution_count": 30,
   "metadata": {},
   "outputs": [
    {
     "name": "stdout",
     "output_type": "stream",
     "text": [
      "Warning: Desired error not necessarily achieved due to precision loss.\n",
      "         Current function value: 0.000063\n",
      "         Iterations: 21\n",
      "         Function evaluations: 315\n",
      "         Gradient evaluations: 303\n",
      "CPU times: user 30.4 s, sys: 572 ms, total: 30.9 s\n",
      "Wall time: 7.75 s\n"
     ]
    }
   ],
   "source": [
    "reg =1.0\n",
    "aguess = np.random.randn(X_train.shape[1])\n",
    "%time res = minimize(opt_J_reg, aguess, method='CG', jac=opt_gradJ_reg, tol=1e-4, options={'disp': True}) "
   ]
  },
  {
   "cell_type": "code",
   "execution_count": 31,
   "metadata": {},
   "outputs": [
    {
     "name": "stdout",
     "output_type": "stream",
     "text": [
      "\n",
      "# \n",
      "# Traing-data fit \n",
      "#\n",
      "Total number of data points   = 6170\n",
      "Number of Positive values(1s) = 3288\n",
      "Number of Negative values(0s) = 2882\n",
      "\n",
      "Number of True Positives = 3288\n",
      "Number of False Positives = 0\n",
      "\n",
      "Number of True Negatives = 2882\n",
      "Number of False Negatives = 0\n",
      "\n",
      "Model Accuracy = 100.00%\n",
      "Model Accuracy Positive Cases = 100.00%\n",
      "Model Accuracy Negative Cases = 100.00%\n",
      "\n",
      "Model Precision = 1.0\n",
      "\n",
      "Model Recall = 1.0\n"
     ]
    }
   ],
   "source": [
    "a_opt = res.x\n",
    "h_prob = h_logistic(X_train,a_opt)\n",
    "h_predict = to_0_1(h_prob)\n",
    "print_model_quality('Traing-data fit', h_predict, y_train)"
   ]
  },
  {
   "cell_type": "markdown",
   "metadata": {},
   "source": [
    "<hr />\n",
    "**We got a 100% fit to the training data!** Note: I changed the optimizer to conjugate gradients since it is usually better for larger numbers of optimization parameters. I also have a small regularization value set to help stabalize the optimization."
   ]
  },
  {
   "cell_type": "markdown",
   "metadata": {},
   "source": [
    "### Results on Validation set\n",
    "This is our first test of how well the fit is \"really\" doing. 100% is hard to argue with for the training set!"
   ]
  },
  {
   "cell_type": "code",
   "execution_count": 32,
   "metadata": {},
   "outputs": [
    {
     "name": "stdout",
     "output_type": "stream",
     "text": [
      "\n",
      "# \n",
      "# Validation-data fit \n",
      "#\n",
      "Total number of data points   = 1323\n",
      "Number of Positive values(1s) = 700\n",
      "Number of Negative values(0s) = 623\n",
      "\n",
      "Number of True Positives = 697\n",
      "Number of False Positives = 4\n",
      "\n",
      "Number of True Negatives = 619\n",
      "Number of False Negatives = 3\n",
      "\n",
      "Model Accuracy = 99.47%\n",
      "Model Accuracy Positive Cases = 99.57%\n",
      "Model Accuracy Negative Cases = 99.36%\n",
      "\n",
      "Model Precision = 0.9942938659058488\n",
      "\n",
      "Model Recall = 0.9957142857142857\n"
     ]
    }
   ],
   "source": [
    "a_opt = res.x\n",
    "h_prob = h_logistic(X_val,a_opt)\n",
    "h_predict = to_0_1(h_prob)\n",
    "print_model_quality('Validation-data fit', h_predict, y_val)"
   ]
  },
  {
   "cell_type": "markdown",
   "metadata": {},
   "source": [
    "<hr />\n",
    "All we had to do here is use the optimized vales in $a$ with our validation set to see how well the model predicts values on that. It looks pretty good with only 7 total miss-classifications out or 1323 total.\n",
    "\n",
    "Maybe our \"perfect\" fit on the training set was too good. I can try adjusting the regularization term to see if we can get a model that is still good on the training set but does a better job on the validation set. (this is what the validation set is for!)"
   ]
  },
  {
   "cell_type": "code",
   "execution_count": 33,
   "metadata": {},
   "outputs": [
    {
     "name": "stdout",
     "output_type": "stream",
     "text": [
      "Warning: Desired error not necessarily achieved due to precision loss.\n",
      "         Current function value: 0.000410\n",
      "         Iterations: 14\n",
      "         Function evaluations: 180\n",
      "         Gradient evaluations: 168\n",
      "CPU times: user 17.5 s, sys: 396 ms, total: 17.9 s\n",
      "Wall time: 4.49 s\n",
      "\n",
      "# \n",
      "# Traing-data fit \n",
      "#\n",
      "Total number of data points   = 6170\n",
      "Number of Positive values(1s) = 3288\n",
      "Number of Negative values(0s) = 2882\n",
      "\n",
      "Number of True Positives = 3288\n",
      "Number of False Positives = 0\n",
      "\n",
      "Number of True Negatives = 2882\n",
      "Number of False Negatives = 0\n",
      "\n",
      "Model Accuracy = 100.00%\n",
      "Model Accuracy Positive Cases = 100.00%\n",
      "Model Accuracy Negative Cases = 100.00%\n",
      "\n",
      "Model Precision = 1.0\n",
      "\n",
      "Model Recall = 1.0\n",
      "\n",
      "# \n",
      "# Validation-data fit \n",
      "#\n",
      "Total number of data points   = 1323\n",
      "Number of Positive values(1s) = 700\n",
      "Number of Negative values(0s) = 623\n",
      "\n",
      "Number of True Positives = 700\n",
      "Number of False Positives = 1\n",
      "\n",
      "Number of True Negatives = 622\n",
      "Number of False Negatives = 0\n",
      "\n",
      "Model Accuracy = 99.92%\n",
      "Model Accuracy Positive Cases = 100.00%\n",
      "Model Accuracy Negative Cases = 99.84%\n",
      "\n",
      "Model Precision = 0.9985734664764622\n",
      "\n",
      "Model Recall = 1.0\n"
     ]
    }
   ],
   "source": [
    "reg = 15.0\n",
    "\n",
    "np.random.seed(42) # just make sure I'm using the same random guess every time I run\n",
    "\n",
    "aguess = np.random.randn(X_train.shape[1])\n",
    "%time res = minimize(opt_J_reg, aguess, method='CG', jac=opt_gradJ_reg, tol=1e-4, options={'disp': True}) \n",
    "\n",
    "a_opt = res.x\n",
    "h_prob = h_logistic(X_train,a_opt)\n",
    "h_predict = to_0_1(h_prob)\n",
    "print_model_quality('Traing-data fit', h_predict, y_train)\n",
    "\n",
    "a_opt = res.x\n",
    "h_prob = h_logistic(X_val,a_opt)\n",
    "h_predict = to_0_1(h_prob)\n",
    "print_model_quality('Validation-data fit', h_predict, y_val)"
   ]
  },
  {
   "cell_type": "markdown",
   "metadata": {},
   "source": [
    "<hr />\n",
    "After a few minutes of trying different values for the regularization 15.0 seemed to be about as good as was going to get for both the training and validation set. This value resulted in just 1 missed prediction out of 1323.\n",
    "\n",
    "Now lets see how the test set looks,"
   ]
  },
  {
   "cell_type": "markdown",
   "metadata": {},
   "source": [
    "### Results on Test set\n"
   ]
  },
  {
   "cell_type": "code",
   "execution_count": 34,
   "metadata": {},
   "outputs": [
    {
     "name": "stdout",
     "output_type": "stream",
     "text": [
      "\n",
      "# \n",
      "# Test-data fit \n",
      "#\n",
      "Total number of data points   = 1323\n",
      "Number of Positive values(1s) = 696\n",
      "Number of Negative values(0s) = 627\n",
      "\n",
      "Number of True Positives = 692\n",
      "Number of False Positives = 3\n",
      "\n",
      "Number of True Negatives = 624\n",
      "Number of False Negatives = 4\n",
      "\n",
      "Model Accuracy = 99.47%\n",
      "Model Accuracy Positive Cases = 99.43%\n",
      "Model Accuracy Negative Cases = 99.52%\n",
      "\n",
      "Model Precision = 0.99568345323741\n",
      "\n",
      "Model Recall = 0.9942528735632183\n"
     ]
    }
   ],
   "source": [
    "a_opt = res.x\n",
    "h_prob = h_logistic(X_test,a_opt)\n",
    "h_predict = to_0_1(h_prob)\n",
    "print_model_quality('Test-data fit', h_predict, y_test)"
   ]
  },
  {
   "cell_type": "markdown",
   "metadata": {},
   "source": [
    "<hr />\n",
    "OK there it is! The test set has 7 errors out of 1323, not bad for simple Logistic Regression!\n",
    "\n",
    "Nest time I extend this to **Multi-Class** Logistic Regression using a method called one-vs-all. With that we can do the whole set of digits 0-9.\n",
    "\n",
    "**Happy computing! --dbk** "
   ]
  }
 ],
 "metadata": {
  "kernelspec": {
   "display_name": "Python 3",
   "language": "python",
   "name": "python3"
  },
  "language_info": {
   "codemirror_mode": {
    "name": "ipython",
    "version": 3
   },
   "file_extension": ".py",
   "mimetype": "text/x-python",
   "name": "python",
   "nbconvert_exporter": "python",
   "pygments_lexer": "ipython3",
   "version": "3.6.2"
  }
 },
 "nbformat": 4,
 "nbformat_minor": 2
}
